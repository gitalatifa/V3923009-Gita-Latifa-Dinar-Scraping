{
 "cells": [
  {
   "cell_type": "code",
   "execution_count": 1,
   "id": "64499df0",
   "metadata": {},
   "outputs": [
    {
     "name": "stdout",
     "output_type": "stream",
     "text": [
      "{'src': 'https://proxyway.com/wp-content/uploads/2023/04/proxyway.svg?ver=1681290142', 'alt': 'Proxyway'}\n",
      "{'src': 'https://proxyway.com/wp-content/uploads/2023/04/Newsfeed-image-min.png', 'alt': 'Adam sitting in a chair reading a newspaper'}\n",
      "{'src': 'https://secure.gravatar.com/avatar/40de7ce27e119cfc9a04eef5e77cc6c2?s=96&r=g', 'alt': 'Adam Dubois'}\n",
      "{'src': 'https://proxyway.com/wp-content/uploads/2020/07/oxylabs-logo-png.png?ver=1704718753', 'alt': 'Oxylabs logo'}\n",
      "{'src': 'https://secure.gravatar.com/avatar/40de7ce27e119cfc9a04eef5e77cc6c2?s=96&r=g', 'alt': 'Adam Dubois'}\n",
      "{'src': 'https://proxyway.com/wp-content/uploads/2022/05/bright-data-logo.png?ver=1704718964', 'alt': 'Bright Data logo'}\n",
      "{'src': 'https://secure.gravatar.com/avatar/40de7ce27e119cfc9a04eef5e77cc6c2?s=96&r=g', 'alt': 'Adam Dubois'}\n",
      "{'src': 'https://proxyway.com/wp-content/uploads/2022/07/rayobyte-logo.png?ver=1704718347', 'alt': 'rayobyte logo'}\n",
      "{'src': 'https://secure.gravatar.com/avatar/40de7ce27e119cfc9a04eef5e77cc6c2?s=96&r=g', 'alt': 'Adam Dubois'}\n",
      "{'src': 'https://proxyway.com/wp-content/uploads/2022/05/bright-data-logo.png?ver=1704718964', 'alt': 'Bright Data logo'}\n",
      "{'src': 'https://secure.gravatar.com/avatar/40de7ce27e119cfc9a04eef5e77cc6c2?s=96&r=g', 'alt': 'Adam Dubois'}\n",
      "{'src': 'https://proxyway.com/wp-content/uploads/2020/08/infatica-logo.png?ver=1704718655', 'alt': 'infatica logo'}\n",
      "{'src': 'https://secure.gravatar.com/avatar/40de7ce27e119cfc9a04eef5e77cc6c2?s=96&r=g', 'alt': 'Adam Dubois'}\n",
      "{'src': 'https://proxyway.com/wp-content/uploads/2022/07/rayobyte-logo.png?ver=1704718347', 'alt': 'rayobyte logo'}\n",
      "{'src': 'https://secure.gravatar.com/avatar/40de7ce27e119cfc9a04eef5e77cc6c2?s=96&r=g', 'alt': 'Adam Dubois'}\n",
      "{'src': 'https://proxyway.com/wp-content/uploads/2022/05/bright-data-logo.png?ver=1704718964', 'alt': 'Bright Data logo'}\n",
      "{'src': 'https://secure.gravatar.com/avatar/40de7ce27e119cfc9a04eef5e77cc6c2?s=96&r=g', 'alt': 'Adam Dubois'}\n",
      "{'src': 'https://proxyway.com/wp-content/uploads/2020/07/oxylabs-logo-png.png?ver=1704718753', 'alt': 'Oxylabs logo'}\n",
      "{'src': 'https://secure.gravatar.com/avatar/40de7ce27e119cfc9a04eef5e77cc6c2?s=96&r=g', 'alt': 'Adam Dubois'}\n",
      "{'src': 'https://proxyway.com/wp-content/uploads/2022/05/bright-data-logo.png?ver=1704718964', 'alt': 'Bright Data logo'}\n",
      "{'src': 'https://secure.gravatar.com/avatar/40de7ce27e119cfc9a04eef5e77cc6c2?s=96&r=g', 'alt': 'Adam Dubois'}\n",
      "{'src': 'https://proxyway.com/wp-content/uploads/2022/03/zyte-logo.png?ver=1704718975', 'alt': 'Zyte logo'}\n",
      "{'src': 'https://secure.gravatar.com/avatar/40de7ce27e119cfc9a04eef5e77cc6c2?s=96&r=g', 'alt': 'Adam Dubois'}\n",
      "{'src': 'https://proxyway.com/wp-content/uploads/2019/09/Smartproxy-Logo.png?ver=1704719397', 'alt': 'smartproxy-logo'}\n",
      "{'src': 'https://secure.gravatar.com/avatar/40de7ce27e119cfc9a04eef5e77cc6c2?s=96&r=g', 'alt': 'Adam Dubois'}\n",
      "{'src': 'https://proxyway.com/wp-content/uploads/2022/05/bright-data-logo.png?ver=1704718964', 'alt': 'Bright Data logo'}\n",
      "{'src': 'https://proxyway.com/wp-content/uploads/2023/04/proxyway.svg?ver=1681290142', 'alt': 'Proxyway'}\n"
     ]
    }
   ],
   "source": [
    "import requests\n",
    "from bs4 import BeautifulSoup\n",
    "import csv\n",
    "\n",
    "url = 'https://proxyway.com/news'\n",
    "r = requests.get(url)\n",
    "\n",
    "soup = BeautifulSoup(r.content, 'html.parser')\n",
    "\n",
    "images_list = []\n",
    "\n",
    "images = soup.select('img')\n",
    "\n",
    "for image in images:\n",
    "    src = image.get('src')\n",
    "    alt = image.get('alt')\n",
    "    images_list.append({\"src\": src, \"alt\": alt})\n",
    "\n",
    "for image in images_list:\n",
    "    print(image)\n",
    "    \n",
    "with open('data gambar.csv' , 'w', encoding='UTF8') as f:\n",
    "    writer = csv.writer(f)\n",
    "    \n",
    "    writer.writerow(images_list)\n",
    "    "
   ]
  },
  {
   "cell_type": "code",
   "execution_count": 2,
   "id": "47dbade4",
   "metadata": {},
   "outputs": [
    {
     "name": "stdout",
     "output_type": "stream",
     "text": [
      "Oxylabs Lowers Mobile Proxy Prices by Up to 60%\n",
      "Bright Data Equalizes Residential and Mobile Proxy Rates\n",
      "Rayobyte Publishes a Whitepaper on Preventing Proxy Abuse\n",
      "ScrapeCon 2024: A Recap\n",
      "Infatica Makes Its Residential Proxies Up to 43% Cheaper\n",
      "Rayobyte Decreases Residential Proxy Prices, Moves to Subscription\n",
      "Bright Data’s ScrapeCon to Take Place on April 2\n",
      "Oxylabs Cuts Residential Proxy Rates by Up to 20%\n",
      "Bright Data Reduces Residential Proxy Prices by 20%\n",
      "Zyte Adds AI Scraping Functionality to Its API\n",
      "Smartproxy Slashes Residential Proxy Prices by Up to 25%\n",
      "Meta Drops the Case Against Bright Data\n"
     ]
    }
   ],
   "source": [
    "import requests\n",
    "from bs4 import BeautifulSoup\n",
    "import csv\n",
    "\n",
    "url = 'https://proxyway.com/news'\n",
    "r = requests.get(url)\n",
    "\n",
    "if r.status_code == 200:\n",
    "    soup = BeautifulSoup(r.text, 'html.parser')\n",
    "    paragraphs = soup.find_all('h2')\n",
    "    \n",
    "    with open('subjudul.csv', 'w', newline='', encoding='UTF8') as f:\n",
    "        writer = csv.writer(f)\n",
    "        \n",
    "        for paragraph in paragraphs:\n",
    "            writer.writerow([paragraph.text])\n",
    "            print(paragraph.text)\n",
    "\n",
    "else:\n",
    "    print('Gagal mengambil halaman:', r.status_code)"
   ]
  },
  {
   "cell_type": "code",
   "execution_count": 3,
   "id": "7a37a0ed",
   "metadata": {},
   "outputs": [
    {
     "name": "stdout",
     "output_type": "stream",
     "text": [
      "The provider also reorganized its pricing scheme.\n",
      "In essence, the provider’s mobile proxies just got 65% cheaper.\n",
      "The document describes Rayobyte’s three-pronged approach against bad actors.\n",
      "Our impressions from Bright Data’s first virtual conference on web scraping.\n",
      "The provider’s plans now give significantly more traffic for the same price.\n",
      "The new rates are up to 50% cheaper in lower ranges.\n",
      "The rescheduled web scraping event will proceed in a week.\n",
      "The reduction affects three entry plans.\n",
      "The second round of price cuts continues.\n",
      "The tool can now crawl, unblock, and parse websites using AI and an optional no-code interface.\n",
      "It’s the second price cut in less than a year.\n",
      "The dispute results in a complete win for the data collection infrastructure provider.\n"
     ]
    }
   ],
   "source": [
    "import requests\n",
    "from bs4 import BeautifulSoup\n",
    "import csv\n",
    "\n",
    "url = 'https://proxyway.com/news'\n",
    "\n",
    "response = requests.get(url)\n",
    "\n",
    "if response.status_code == 200:\n",
    "    soup = BeautifulSoup(response.content, 'html.parser')\n",
    "    div_elements = soup.find_all('div', attrs={'data-widget_type': 'theme-post-excerpt.default'})\n",
    "\n",
    "    if div_elements:\n",
    "        \n",
    "        with open('keterangan.csv', 'w', newline='', encoding='utf-8') as csvfile:\n",
    "            csvwriter = csv.writer(csvfile)\n",
    "\n",
    "            for div_element in div_elements:\n",
    "                inner_div = div_element.find('div', class_='elementor-widget-container')\n",
    "                if inner_div:\n",
    "                    text_content = inner_div.get_text(strip=True)\n",
    "                    csvwriter.writerow([text_content])\n",
    "                    print(text_content)\n",
    "else:\n",
    "    print(f'Gagal mengambil halaman. Status code: {response.status_code}')"
   ]
  },
  {
   "cell_type": "code",
   "execution_count": null,
   "id": "0be538d4",
   "metadata": {},
   "outputs": [],
   "source": []
  },
  {
   "cell_type": "code",
   "execution_count": null,
   "id": "0d74a532",
   "metadata": {},
   "outputs": [],
   "source": []
  },
  {
   "cell_type": "code",
   "execution_count": null,
   "id": "c34d867b",
   "metadata": {},
   "outputs": [],
   "source": []
  }
 ],
 "metadata": {
  "kernelspec": {
   "display_name": "Python 3 (ipykernel)",
   "language": "python",
   "name": "python3"
  },
  "language_info": {
   "codemirror_mode": {
    "name": "ipython",
    "version": 3
   },
   "file_extension": ".py",
   "mimetype": "text/x-python",
   "name": "python",
   "nbconvert_exporter": "python",
   "pygments_lexer": "ipython3",
   "version": "3.11.5"
  }
 },
 "nbformat": 4,
 "nbformat_minor": 5
}
